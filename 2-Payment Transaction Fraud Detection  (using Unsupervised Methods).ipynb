{
 "cells": [
  {
   "cell_type": "markdown",
   "metadata": {},
   "source": [
    "## **Fraud Detection in Python**\n",
    "A typical organization loses an estimated 5% of its yearly revenue to fraud. In this course, learn to fight fraud by using data. Apply supervised learning algorithms to detect fraudulent behavior based upon past fraud, and use unsupervised learning methods to discover new types of fraud activities. \n",
    "\n",
    "Fraudulent transactions are rare compared to the norm.  As such, learn to properly classify imbalanced datasets.\n",
    "\n",
    "This notebook technical and theoretical insights and demonstrates how to implement fraud detection models. Finally, get tips and advice from real-life experience to help prevent common mistakes in fraud analytics."
   ]
  },
  {
   "cell_type": "markdown",
   "metadata": {},
   "source": [
    "**Imports**"
   ]
  },
  {
   "cell_type": "code",
   "execution_count": 6,
   "metadata": {},
   "outputs": [],
   "source": [
    "import warnings\n",
    "\n",
    "warnings.filterwarnings(\"ignore\")\n",
    "warnings.simplefilter(\"ignore\")"
   ]
  },
  {
   "cell_type": "code",
   "execution_count": 7,
   "metadata": {},
   "outputs": [],
   "source": [
    "import pandas as pd\n",
    "import matplotlib.pyplot as plt\n",
    "from matplotlib.patches import Rectangle\n",
    "import numpy as np\n",
    "from pprint import pprint as pp\n",
    "import csv\n",
    "from pathlib import Path\n",
    "import seaborn as sns\n",
    "from itertools import product\n",
    "import string\n",
    "\n",
    "from sklearn.metrics import (\n",
    "    r2_score,\n",
    "    classification_report,\n",
    "    confusion_matrix,\n",
    "    accuracy_score,\n",
    "    roc_auc_score,\n",
    "    roc_curve,\n",
    "    precision_recall_curve,\n",
    "    average_precision_score,\n",
    ")\n",
    "\n",
    "from sklearn.model_selection import train_test_split\n",
    "from sklearn.metrics import homogeneity_score, silhouette_score\n",
    "from sklearn.preprocessing import MinMaxScaler\n",
    "from sklearn.cluster import MiniBatchKMeans, DBSCAN"
   ]
  },
  {
   "cell_type": "markdown",
   "metadata": {},
   "source": [
    "**Pandas Configuration Options**"
   ]
  },
  {
   "cell_type": "code",
   "execution_count": 8,
   "metadata": {},
   "outputs": [],
   "source": [
    "pd.set_option(\"display.max_columns\", 700)\n",
    "pd.set_option(\"display.max_rows\", 400)\n",
    "pd.set_option(\"display.min_rows\", 10)\n",
    "pd.set_option(\"display.expand_frame_repr\", True)"
   ]
  },
  {
   "cell_type": "markdown",
   "metadata": {},
   "source": [
    "**Data Files Location**\n",
    "\n",
    "* Most data files for the exercises can be found on the [this site](https://www.datacamp.com/courses/fraud-detection-in-python):\n",
    "    * [Chapter 3](https://assets.datacamp.com/production/repositories/2162/datasets/08cfcd4158b3a758e72e9bd077a9e44fec9f773b/chapter_3.zip)"
   ]
  },
  {
   "cell_type": "markdown",
   "metadata": {},
   "source": [
    "**Data File Objects**"
   ]
  },
  {
   "cell_type": "code",
   "execution_count": 9,
   "metadata": {},
   "outputs": [],
   "source": [
    "data = Path.cwd() / \"data\"\n",
    "\n",
    "ch3 = data / \"chapter_3\"\n",
    "banksim_file = ch3 / \"banksim.csv\"\n",
    "banksim_adj_file = ch3 / \"banksim_adj.csv\"\n",
    "db_full_file = ch3 / \"db_full.pickle\"\n",
    "labels_file = ch3 / \"labels.pickle\"\n",
    "labels_full_file = ch3 / \"labels_full.pickle\"\n",
    "x_scaled_file = ch3 / \"x_scaled.pickle\"\n",
    "x_scaled_full_file = ch3 / \"x_scaled_full.pickle\""
   ]
  },
  {
   "cell_type": "markdown",
   "metadata": {},
   "source": [
    "## Introduction to fraud detection\n",
    "\n",
    "* Types:\n",
    "    * Insurance\n",
    "    * Credit card\n",
    "    * Identity theft\n",
    "    * Money laundering\n",
    "    * Tax evasion\n",
    "    * Healthcare\n",
    "    * Product warranty\n",
    "* e-commerce businesses must continuously assess the legitimacy of client transactions\n",
    "* Detecting fraud is challenging:\n",
    "    * Uncommon; < 0.01% of transactions\n",
    "    * Attempts are made to conceal fraud\n",
    "    * Behavior evolves\n",
    "    * Fraudulent activities perpetrated by networks - organized crime\n",
    "* Fraud detection requires training an algorithm to identify concealed observations from any normal observations\n",
    "* Fraud analytics teams:\n",
    "    * Often use rules based systems, based on manually set thresholds and experience\n",
    "    * Check the news\n",
    "    * Receive external lists of fraudulent accounts and names\n",
    "        * suspicious names or track an external hit list from police to reference check against the client base\n",
    "    * Sometimes use machine learning algorithms to detect fraud or suspicious behavior\n",
    "        * Existing sources can be used as inputs into the ML model\n",
    "        * Verify the veracity of rules based labels"
   ]
  },
  {
   "cell_type": "markdown",
   "metadata": {},
   "source": [
    "# Fraud detection using unlabeled data\n",
    "\n",
    "Use unsupervised learning techniques to detect fraud. Segment customers, use K-means clustering and other clustering algorithms to find suspicious occurrences in your data."
   ]
  },
  {
   "cell_type": "markdown",
   "metadata": {},
   "source": [
    "## Normal versus abnormal behavior\n",
    "\n",
    "* Explore fraud detection without reliable data labels\n",
    "* Unsupervised learning to detect suspicious behavior\n",
    "* Abnormal behavior isn't necessarily fraudulent\n",
    "* Challenging because it's difficult to validate"
   ]
  },
  {
   "cell_type": "markdown",
   "metadata": {},
   "source": [
    "#### What's normal behavior?\n",
    "\n",
    "* thoroughly describe the data:\n",
    "    * plot histograms\n",
    "    * check for outliers\n",
    "    * investigate correlations\n",
    "* Are there any known historic cases of fraud? What typifies those cases?\n",
    "* Investigate whether the data is homogeneous, or whether different types of clients display different behavior\n",
    "* Check patterns within subgroups of data: is your data homogeneous?\n",
    "* Verify data points are the same type:\n",
    "    * individuals\n",
    "    * groups\n",
    "    * companies\n",
    "    * governmental organizations\n",
    "* Do the data points differ on:\n",
    "    * spending patterns\n",
    "    * age\n",
    "    * location\n",
    "    * frequency\n",
    "* For credit card fraud, location can be an indication of fraud\n",
    "* This goes for e-commerce sites\n",
    "    * where's the IP address located and where is the product ordered to ship?\n",
    "* Create a separate model for each segment\n",
    "* How to aggregate the many model results back into one final list"
   ]
  },
  {
   "cell_type": "markdown",
   "metadata": {},
   "source": [
    "### Exploring the data\n",
    "\n",
    "In the next sections, you will be looking at bank **payment transaction data**. The financial transactions are categorized by type of expense, as well as the amount spent. Moreover, you have some client characteristics available such as age group and gender. Some of the transactions are labeled as fraud; you'll treat these labels as given and will use those to validate the results.\n",
    "\n",
    "When using unsupervised learning techniques for fraud detection, you want to **distinguish normal from abnormal** (thus potentially fraudulent) behavior. As a fraud analyst to understand what is \"normal\", you need to have a good understanding of the data and its characteristics. Let's explore the data in this first section.\n",
    "\n",
    "**Instructions 1/3**\n",
    "\n",
    "* Obtain the shape of the dataframe `df` to inspect the size of our data and display the first rows to see which features are available."
   ]
  },
  {
   "cell_type": "code",
   "execution_count": 10,
   "metadata": {},
   "outputs": [],
   "source": [
    "banksim_df = pd.read_csv(banksim_file)\n",
    "banksim_df.drop([\"Unnamed: 0\"], axis=1, inplace=True)\n",
    "banksim_adj_df = pd.read_csv(banksim_adj_file)\n",
    "banksim_adj_df.drop([\"Unnamed: 0\"], axis=1, inplace=True)"
   ]
  },
  {
   "cell_type": "code",
   "execution_count": 11,
   "metadata": {},
   "outputs": [
    {
     "data": {
      "text/plain": [
       "(7200, 5)"
      ]
     },
     "execution_count": 11,
     "metadata": {},
     "output_type": "execute_result"
    }
   ],
   "source": [
    "banksim_df.shape"
   ]
  },
  {
   "cell_type": "code",
   "execution_count": 12,
   "metadata": {},
   "outputs": [
    {
     "data": {
      "text/html": [
       "<div>\n",
       "<style scoped>\n",
       "    .dataframe tbody tr th:only-of-type {\n",
       "        vertical-align: middle;\n",
       "    }\n",
       "\n",
       "    .dataframe tbody tr th {\n",
       "        vertical-align: top;\n",
       "    }\n",
       "\n",
       "    .dataframe thead th {\n",
       "        text-align: right;\n",
       "    }\n",
       "</style>\n",
       "<table border=\"1\" class=\"dataframe\">\n",
       "  <thead>\n",
       "    <tr style=\"text-align: right;\">\n",
       "      <th></th>\n",
       "      <th>age</th>\n",
       "      <th>gender</th>\n",
       "      <th>category</th>\n",
       "      <th>amount</th>\n",
       "      <th>fraud</th>\n",
       "    </tr>\n",
       "  </thead>\n",
       "  <tbody>\n",
       "    <tr>\n",
       "      <th>0</th>\n",
       "      <td>3</td>\n",
       "      <td>F</td>\n",
       "      <td>es_transportation</td>\n",
       "      <td>49.71</td>\n",
       "      <td>0</td>\n",
       "    </tr>\n",
       "    <tr>\n",
       "      <th>1</th>\n",
       "      <td>4</td>\n",
       "      <td>F</td>\n",
       "      <td>es_health</td>\n",
       "      <td>39.29</td>\n",
       "      <td>0</td>\n",
       "    </tr>\n",
       "    <tr>\n",
       "      <th>2</th>\n",
       "      <td>3</td>\n",
       "      <td>F</td>\n",
       "      <td>es_transportation</td>\n",
       "      <td>18.76</td>\n",
       "      <td>0</td>\n",
       "    </tr>\n",
       "    <tr>\n",
       "      <th>3</th>\n",
       "      <td>4</td>\n",
       "      <td>M</td>\n",
       "      <td>es_transportation</td>\n",
       "      <td>13.95</td>\n",
       "      <td>0</td>\n",
       "    </tr>\n",
       "    <tr>\n",
       "      <th>4</th>\n",
       "      <td>2</td>\n",
       "      <td>M</td>\n",
       "      <td>es_transportation</td>\n",
       "      <td>49.87</td>\n",
       "      <td>0</td>\n",
       "    </tr>\n",
       "  </tbody>\n",
       "</table>\n",
       "</div>"
      ],
      "text/plain": [
       "  age gender           category  amount  fraud\n",
       "0   3      F  es_transportation   49.71      0\n",
       "1   4      F          es_health   39.29      0\n",
       "2   3      F  es_transportation   18.76      0\n",
       "3   4      M  es_transportation   13.95      0\n",
       "4   2      M  es_transportation   49.87      0"
      ]
     },
     "execution_count": 12,
     "metadata": {},
     "output_type": "execute_result"
    }
   ],
   "source": [
    "banksim_df.head()"
   ]
  },
  {
   "cell_type": "code",
   "execution_count": 13,
   "metadata": {},
   "outputs": [
    {
     "data": {
      "text/plain": [
       "(7189, 18)"
      ]
     },
     "execution_count": 13,
     "metadata": {},
     "output_type": "execute_result"
    }
   ],
   "source": [
    "banksim_adj_df.shape"
   ]
  },
  {
   "cell_type": "code",
   "execution_count": 14,
   "metadata": {},
   "outputs": [
    {
     "data": {
      "text/html": [
       "<div>\n",
       "<style scoped>\n",
       "    .dataframe tbody tr th:only-of-type {\n",
       "        vertical-align: middle;\n",
       "    }\n",
       "\n",
       "    .dataframe tbody tr th {\n",
       "        vertical-align: top;\n",
       "    }\n",
       "\n",
       "    .dataframe thead th {\n",
       "        text-align: right;\n",
       "    }\n",
       "</style>\n",
       "<table border=\"1\" class=\"dataframe\">\n",
       "  <thead>\n",
       "    <tr style=\"text-align: right;\">\n",
       "      <th></th>\n",
       "      <th>age</th>\n",
       "      <th>amount</th>\n",
       "      <th>fraud</th>\n",
       "      <th>M</th>\n",
       "      <th>es_barsandrestaurants</th>\n",
       "      <th>es_contents</th>\n",
       "      <th>es_fashion</th>\n",
       "      <th>es_food</th>\n",
       "      <th>es_health</th>\n",
       "      <th>es_home</th>\n",
       "      <th>es_hotelservices</th>\n",
       "      <th>es_hyper</th>\n",
       "      <th>es_leisure</th>\n",
       "      <th>es_otherservices</th>\n",
       "      <th>es_sportsandtoys</th>\n",
       "      <th>es_tech</th>\n",
       "      <th>es_transportation</th>\n",
       "      <th>es_travel</th>\n",
       "    </tr>\n",
       "  </thead>\n",
       "  <tbody>\n",
       "    <tr>\n",
       "      <th>0</th>\n",
       "      <td>3</td>\n",
       "      <td>49.71</td>\n",
       "      <td>0</td>\n",
       "      <td>0</td>\n",
       "      <td>0</td>\n",
       "      <td>0</td>\n",
       "      <td>0</td>\n",
       "      <td>0</td>\n",
       "      <td>0</td>\n",
       "      <td>0</td>\n",
       "      <td>0</td>\n",
       "      <td>0</td>\n",
       "      <td>0</td>\n",
       "      <td>0</td>\n",
       "      <td>0</td>\n",
       "      <td>0</td>\n",
       "      <td>1</td>\n",
       "      <td>0</td>\n",
       "    </tr>\n",
       "    <tr>\n",
       "      <th>1</th>\n",
       "      <td>4</td>\n",
       "      <td>39.29</td>\n",
       "      <td>0</td>\n",
       "      <td>0</td>\n",
       "      <td>0</td>\n",
       "      <td>0</td>\n",
       "      <td>0</td>\n",
       "      <td>0</td>\n",
       "      <td>1</td>\n",
       "      <td>0</td>\n",
       "      <td>0</td>\n",
       "      <td>0</td>\n",
       "      <td>0</td>\n",
       "      <td>0</td>\n",
       "      <td>0</td>\n",
       "      <td>0</td>\n",
       "      <td>0</td>\n",
       "      <td>0</td>\n",
       "    </tr>\n",
       "    <tr>\n",
       "      <th>2</th>\n",
       "      <td>3</td>\n",
       "      <td>18.76</td>\n",
       "      <td>0</td>\n",
       "      <td>0</td>\n",
       "      <td>0</td>\n",
       "      <td>0</td>\n",
       "      <td>0</td>\n",
       "      <td>0</td>\n",
       "      <td>0</td>\n",
       "      <td>0</td>\n",
       "      <td>0</td>\n",
       "      <td>0</td>\n",
       "      <td>0</td>\n",
       "      <td>0</td>\n",
       "      <td>0</td>\n",
       "      <td>0</td>\n",
       "      <td>1</td>\n",
       "      <td>0</td>\n",
       "    </tr>\n",
       "    <tr>\n",
       "      <th>3</th>\n",
       "      <td>4</td>\n",
       "      <td>13.95</td>\n",
       "      <td>0</td>\n",
       "      <td>1</td>\n",
       "      <td>0</td>\n",
       "      <td>0</td>\n",
       "      <td>0</td>\n",
       "      <td>0</td>\n",
       "      <td>0</td>\n",
       "      <td>0</td>\n",
       "      <td>0</td>\n",
       "      <td>0</td>\n",
       "      <td>0</td>\n",
       "      <td>0</td>\n",
       "      <td>0</td>\n",
       "      <td>0</td>\n",
       "      <td>1</td>\n",
       "      <td>0</td>\n",
       "    </tr>\n",
       "    <tr>\n",
       "      <th>4</th>\n",
       "      <td>2</td>\n",
       "      <td>49.87</td>\n",
       "      <td>0</td>\n",
       "      <td>1</td>\n",
       "      <td>0</td>\n",
       "      <td>0</td>\n",
       "      <td>0</td>\n",
       "      <td>0</td>\n",
       "      <td>0</td>\n",
       "      <td>0</td>\n",
       "      <td>0</td>\n",
       "      <td>0</td>\n",
       "      <td>0</td>\n",
       "      <td>0</td>\n",
       "      <td>0</td>\n",
       "      <td>0</td>\n",
       "      <td>1</td>\n",
       "      <td>0</td>\n",
       "    </tr>\n",
       "  </tbody>\n",
       "</table>\n",
       "</div>"
      ],
      "text/plain": [
       "   age  amount  fraud  M  es_barsandrestaurants  es_contents  es_fashion  \\\n",
       "0    3   49.71      0  0                      0            0           0   \n",
       "1    4   39.29      0  0                      0            0           0   \n",
       "2    3   18.76      0  0                      0            0           0   \n",
       "3    4   13.95      0  1                      0            0           0   \n",
       "4    2   49.87      0  1                      0            0           0   \n",
       "\n",
       "   es_food  es_health  es_home  es_hotelservices  es_hyper  es_leisure  \\\n",
       "0        0          0        0                 0         0           0   \n",
       "1        0          1        0                 0         0           0   \n",
       "2        0          0        0                 0         0           0   \n",
       "3        0          0        0                 0         0           0   \n",
       "4        0          0        0                 0         0           0   \n",
       "\n",
       "   es_otherservices  es_sportsandtoys  es_tech  es_transportation  es_travel  \n",
       "0                 0                 0        0                  1          0  \n",
       "1                 0                 0        0                  0          0  \n",
       "2                 0                 0        0                  1          0  \n",
       "3                 0                 0        0                  1          0  \n",
       "4                 0                 0        0                  1          0  "
      ]
     },
     "execution_count": 14,
     "metadata": {},
     "output_type": "execute_result"
    }
   ],
   "source": [
    "banksim_adj_df.head()"
   ]
  },
  {
   "cell_type": "markdown",
   "metadata": {},
   "source": [
    "**Instructions 2/3**\n",
    "\n",
    "* Group the data by transaction category and take the mean of the data."
   ]
  },
  {
   "cell_type": "code",
   "execution_count": 15,
   "metadata": {},
   "outputs": [
    {
     "data": {
      "text/html": [
       "<div>\n",
       "<style scoped>\n",
       "    .dataframe tbody tr th:only-of-type {\n",
       "        vertical-align: middle;\n",
       "    }\n",
       "\n",
       "    .dataframe tbody tr th {\n",
       "        vertical-align: top;\n",
       "    }\n",
       "\n",
       "    .dataframe thead th {\n",
       "        text-align: right;\n",
       "    }\n",
       "</style>\n",
       "<table border=\"1\" class=\"dataframe\">\n",
       "  <thead>\n",
       "    <tr style=\"text-align: right;\">\n",
       "      <th></th>\n",
       "      <th>amount</th>\n",
       "      <th>fraud</th>\n",
       "    </tr>\n",
       "    <tr>\n",
       "      <th>category</th>\n",
       "      <th></th>\n",
       "      <th></th>\n",
       "    </tr>\n",
       "  </thead>\n",
       "  <tbody>\n",
       "    <tr>\n",
       "      <th>es_barsandrestaurants</th>\n",
       "      <td>43.841793</td>\n",
       "      <td>0.022472</td>\n",
       "    </tr>\n",
       "    <tr>\n",
       "      <th>es_contents</th>\n",
       "      <td>55.170000</td>\n",
       "      <td>0.000000</td>\n",
       "    </tr>\n",
       "    <tr>\n",
       "      <th>es_fashion</th>\n",
       "      <td>59.780769</td>\n",
       "      <td>0.020619</td>\n",
       "    </tr>\n",
       "    <tr>\n",
       "      <th>es_food</th>\n",
       "      <td>35.216050</td>\n",
       "      <td>0.000000</td>\n",
       "    </tr>\n",
       "    <tr>\n",
       "      <th>es_health</th>\n",
       "      <td>126.604704</td>\n",
       "      <td>0.242798</td>\n",
       "    </tr>\n",
       "    <tr>\n",
       "      <th>es_home</th>\n",
       "      <td>120.688317</td>\n",
       "      <td>0.208333</td>\n",
       "    </tr>\n",
       "    <tr>\n",
       "      <th>es_hotelservices</th>\n",
       "      <td>172.756245</td>\n",
       "      <td>0.548387</td>\n",
       "    </tr>\n",
       "    <tr>\n",
       "      <th>es_hyper</th>\n",
       "      <td>46.788180</td>\n",
       "      <td>0.125000</td>\n",
       "    </tr>\n",
       "    <tr>\n",
       "      <th>es_leisure</th>\n",
       "      <td>229.757600</td>\n",
       "      <td>1.000000</td>\n",
       "    </tr>\n",
       "    <tr>\n",
       "      <th>es_otherservices</th>\n",
       "      <td>149.648960</td>\n",
       "      <td>0.600000</td>\n",
       "    </tr>\n",
       "    <tr>\n",
       "      <th>es_sportsandtoys</th>\n",
       "      <td>157.251737</td>\n",
       "      <td>0.657895</td>\n",
       "    </tr>\n",
       "    <tr>\n",
       "      <th>es_tech</th>\n",
       "      <td>132.852862</td>\n",
       "      <td>0.179487</td>\n",
       "    </tr>\n",
       "    <tr>\n",
       "      <th>es_transportation</th>\n",
       "      <td>27.422014</td>\n",
       "      <td>0.000000</td>\n",
       "    </tr>\n",
       "    <tr>\n",
       "      <th>es_travel</th>\n",
       "      <td>231.818656</td>\n",
       "      <td>0.944444</td>\n",
       "    </tr>\n",
       "    <tr>\n",
       "      <th>es_wellnessandbeauty</th>\n",
       "      <td>66.167078</td>\n",
       "      <td>0.060606</td>\n",
       "    </tr>\n",
       "  </tbody>\n",
       "</table>\n",
       "</div>"
      ],
      "text/plain": [
       "                           amount     fraud\n",
       "category                                   \n",
       "es_barsandrestaurants   43.841793  0.022472\n",
       "es_contents             55.170000  0.000000\n",
       "es_fashion              59.780769  0.020619\n",
       "es_food                 35.216050  0.000000\n",
       "es_health              126.604704  0.242798\n",
       "es_home                120.688317  0.208333\n",
       "es_hotelservices       172.756245  0.548387\n",
       "es_hyper                46.788180  0.125000\n",
       "es_leisure             229.757600  1.000000\n",
       "es_otherservices       149.648960  0.600000\n",
       "es_sportsandtoys       157.251737  0.657895\n",
       "es_tech                132.852862  0.179487\n",
       "es_transportation       27.422014  0.000000\n",
       "es_travel              231.818656  0.944444\n",
       "es_wellnessandbeauty    66.167078  0.060606"
      ]
     },
     "execution_count": 15,
     "metadata": {},
     "output_type": "execute_result"
    }
   ],
   "source": [
    "banksim_df.groupby([\"category\"]).mean()"
   ]
  },
  {
   "cell_type": "markdown",
   "metadata": {},
   "source": [
    "**Instructions 3/3**\n",
    "\n",
    "Based on these results, can you already say something about fraud in our data?\n",
    "\n",
    "**Possible Answers**\n",
    "\n",
    "* ~~No, I don't have enough information.~~\n",
    "* **Yes, the majority of fraud is observed in travel, leisure and sports related transactions.**"
   ]
  },
  {
   "cell_type": "markdown",
   "metadata": {},
   "source": [
    "### Customer segmentation\n",
    "\n",
    "In this section, you're going to check whether there are any **obvious patterns** for the clients in this data, thus whether you need to segment your data into groups, or whether the data is rather homogenous.\n",
    "\n",
    "You unfortunately don't have a lot client information available; you can't for example distinguish between the wealth levels of different clients. However, there is data on **age ** available, so let's see whether there is any significant difference between behavior of age groups.\n",
    "\n",
    "**Instructions 1/3**\n",
    "\n",
    "* Group the dataframe `df` by the category `age` and get the means for each age group."
   ]
  },
  {
   "cell_type": "code",
   "execution_count": 16,
   "metadata": {},
   "outputs": [
    {
     "data": {
      "text/html": [
       "<div>\n",
       "<style scoped>\n",
       "    .dataframe tbody tr th:only-of-type {\n",
       "        vertical-align: middle;\n",
       "    }\n",
       "\n",
       "    .dataframe tbody tr th {\n",
       "        vertical-align: top;\n",
       "    }\n",
       "\n",
       "    .dataframe thead th {\n",
       "        text-align: right;\n",
       "    }\n",
       "</style>\n",
       "<table border=\"1\" class=\"dataframe\">\n",
       "  <thead>\n",
       "    <tr style=\"text-align: right;\">\n",
       "      <th></th>\n",
       "      <th>amount</th>\n",
       "      <th>fraud</th>\n",
       "    </tr>\n",
       "    <tr>\n",
       "      <th>age</th>\n",
       "      <th></th>\n",
       "      <th></th>\n",
       "    </tr>\n",
       "  </thead>\n",
       "  <tbody>\n",
       "    <tr>\n",
       "      <th>0</th>\n",
       "      <td>49.468935</td>\n",
       "      <td>0.050000</td>\n",
       "    </tr>\n",
       "    <tr>\n",
       "      <th>1</th>\n",
       "      <td>35.622829</td>\n",
       "      <td>0.026648</td>\n",
       "    </tr>\n",
       "    <tr>\n",
       "      <th>2</th>\n",
       "      <td>37.228665</td>\n",
       "      <td>0.028718</td>\n",
       "    </tr>\n",
       "    <tr>\n",
       "      <th>3</th>\n",
       "      <td>37.279338</td>\n",
       "      <td>0.023283</td>\n",
       "    </tr>\n",
       "    <tr>\n",
       "      <th>4</th>\n",
       "      <td>36.197985</td>\n",
       "      <td>0.035966</td>\n",
       "    </tr>\n",
       "    <tr>\n",
       "      <th>5</th>\n",
       "      <td>37.547521</td>\n",
       "      <td>0.023990</td>\n",
       "    </tr>\n",
       "    <tr>\n",
       "      <th>6</th>\n",
       "      <td>36.700852</td>\n",
       "      <td>0.022293</td>\n",
       "    </tr>\n",
       "    <tr>\n",
       "      <th>U</th>\n",
       "      <td>39.117000</td>\n",
       "      <td>0.000000</td>\n",
       "    </tr>\n",
       "  </tbody>\n",
       "</table>\n",
       "</div>"
      ],
      "text/plain": [
       "        amount     fraud\n",
       "age                     \n",
       "0    49.468935  0.050000\n",
       "1    35.622829  0.026648\n",
       "2    37.228665  0.028718\n",
       "3    37.279338  0.023283\n",
       "4    36.197985  0.035966\n",
       "5    37.547521  0.023990\n",
       "6    36.700852  0.022293\n",
       "U    39.117000  0.000000"
      ]
     },
     "execution_count": 16,
     "metadata": {},
     "output_type": "execute_result"
    }
   ],
   "source": [
    "banksim_df.groupby([\"age\"]).mean()"
   ]
  },
  {
   "cell_type": "markdown",
   "metadata": {},
   "source": [
    "**Instructions 2/3**\n",
    "\n",
    "* Count the values of each age group."
   ]
  },
  {
   "cell_type": "code",
   "execution_count": 17,
   "metadata": {},
   "outputs": [
    {
     "data": {
      "text/plain": [
       "2    2333\n",
       "3    1718\n",
       "4    1279\n",
       "5     792\n",
       "1     713\n",
       "6     314\n",
       "0      40\n",
       "U      11\n",
       "Name: age, dtype: int64"
      ]
     },
     "execution_count": 17,
     "metadata": {},
     "output_type": "execute_result"
    }
   ],
   "source": [
    "banksim_df.age.value_counts()"
   ]
  },
  {
   "cell_type": "markdown",
   "metadata": {},
   "source": [
    "**Instructions 3/3**\n",
    "\n",
    "Based on the results you see, does it make sense to divide your data into age segments before running a fraud detection algorithm?\n",
    "\n",
    "**Possible Answers**\n",
    "\n",
    "* **No, the age groups who are the largest are relatively similar.**\n",
    "* ~~Yes, the age group \"0\" is very different and I would split that one out.~~\n",
    "\n",
    "**The average amount spent as well as fraud occurrence is rather similar across groups. Age group '0' stands out but since there are only 40 cases, it does not make sense to split these out in a separate group and run a separate model on them.**"
   ]
  },
  {
   "cell_type": "markdown",
   "metadata": {},
   "source": [
    "### Using statistics to define normal behavior\n",
    "\n",
    "In the previous sections, we saw that fraud is **more prevalent in certain transaction categories**, but that there is no obvious way to segment our data into for example age groups. This time, let's investigate the **average amounts spent** in normal transactions versus fraud transactions. This gives you an idea of how fraudulent transactions **differ structurally** from normal transactions.\n",
    "\n",
    "**Instructions**\n",
    "\n",
    "* Create two new dataframes from fraud and non-fraud observations. Locate the data in `df` with `.loc` and assign the condition \"where fraud is 1\" and \"where fraud is 0\" for creation of the new dataframes.\n",
    "* Plot the `amount` column of the newly created dataframes in the histogram plot functions and assign the labels `fraud` and `nonfraud` respectively to the plots."
   ]
  },
  {
   "cell_type": "code",
   "execution_count": 18,
   "metadata": {},
   "outputs": [],
   "source": [
    "# Create two dataframes with fraud and non-fraud data\n",
    "df_fraud = banksim_df[banksim_df.fraud == 1]\n",
    "df_non_fraud = banksim_df[banksim_df.fraud == 0]"
   ]
  },
  {
   "cell_type": "code",
   "execution_count": 19,
   "metadata": {},
   "outputs": [
    {
     "data": {
      "image/png": "[encoded data removed]",
      "text/plain": [
       "<Figure size 432x288 with 1 Axes>"
      ]
     },
     "metadata": {
      "needs_background": "light"
     },
     "output_type": "display_data"
    }
   ],
   "source": [
    "# Plot histograms of the amounts in fraud and non-fraud data\n",
    "plt.hist(df_fraud.amount, alpha=0.5, label=\"fraud\")\n",
    "plt.hist(df_non_fraud.amount, alpha=0.5, label=\"nonfraud\")\n",
    "plt.xlabel(\"amount\")\n",
    "plt.legend()\n",
    "plt.show()"
   ]
  },
  {
   "cell_type": "markdown",
   "metadata": {},
   "source": [
    "**As the number fraud observations is much smaller, it is difficult to see the full distribution. Nonetheless, you can see that the fraudulent transactions tend to be on the larger side relative to normal observations. This is good news, as it helps us later in detecting fraud from non-fraud. In the next section you're going to implement a clustering model to distinguish between normal and abnormal transactions, when the fraud labels are no longer available.**"
   ]
  },
  {
   "cell_type": "markdown",
   "metadata": {},
   "source": [
    "## Clustering methods to detect fraud"
   ]
  },
  {
   "cell_type": "markdown",
   "metadata": {},
   "source": [
    "#### K-means clustering\n",
    "\n",
    "![k-means](https://raw.githubusercontent.com/trenton3983/DataCamp/master/Images/fraud_detection/k-means.JPG)\n",
    "\n",
    "* The objective of any clustering model is to detect patterns in the data\n",
    "* More specifically, to group the data into distinct clusters made of data points that are very similar to each other, but distinct from the points in the other clusters.\n",
    "* **The objective of k-means is to minimize the sum of all distances between the data samples and their associated cluster centroids**\n",
    "    * The score is the inverse of that minimization, so the score should be close to 0.\n",
    "* **Using the distance to cluster centroids**\n",
    "    * Training samples are shown as dots and cluster centroids are shown as crosses\n",
    "    * Attempt to cluster the data in image A\n",
    "        * Start by putting in an initial guess for two cluster centroids, as in B\n",
    "        * Predefine the number of clusters at the start\n",
    "        * Then calculate the distances of each sample in the data to the closest centroid\n",
    "        * Figure C shows the data split into the two clusters\n",
    "        * Based on the initial clusters, the location of the centroids can be redefined (fig D) to minimize the sum of all distances in the two clusters.\n",
    "        * Repeat the step of reassigning points that are nearest to the centroid (fig E) until it converges to the point where no sample gets reassigned to another cluster (fig F)\n",
    "        * ![clustering](https://raw.githubusercontent.com/trenton3983/DataCamp/master/Images/fraud_detection/clustering.JPG)"
   ]
  },
  {
   "cell_type": "markdown",
   "metadata": {},
   "source": [
    "#### K-means clustering in Python\n",
    "\n",
    "* It's of utmost importance to scale the data before doing K-means clustering, or any algorithm that uses distances\n",
    "* Without scaling, features on a larger scale will weigh more heavily in the algorithm.  All features should weigh equally at the initial stage\n",
    "* fix `random_state` so models can be compared\n",
    "\n",
    "```python\n",
    "# Import the packages\n",
    "from sklearn.preprocessing import MinMaxScaler\n",
    "from sklearn.cluster import KMeans\n",
    "\n",
    "# Transform and scale your data\n",
    "X = np.array(df).astype(np.float)\n",
    "scaler = MinMaxScaler()\n",
    "X_scaled = scaler.fit_transform(X)\n",
    "\n",
    "# Define the k-means model and fit to the data\n",
    "kmeans = KMeans(n_clusters=6, random_state=42).fit(X_scaled)\n",
    "```"
   ]
  },
  {
   "cell_type": "markdown",
   "metadata": {},
   "source": [
    "#### The right amount of clusters\n",
    "\n",
    "* The drawback of K-means clustering is the need to assign the number of clusters beforehand\n",
    "* There are multiple ways to check what the right number of clusters should be\n",
    "    * Silhouette method\n",
    "    * Elbow curve\n",
    "* By running a k-means model on clusters varying from 1 to 10 and generate an **elbow curve** by saving the scores for each model under \"score\".\n",
    "* Plot the scores against the number of clusters\n",
    "\n",
    "    \n",
    "```python\n",
    "clust = range(1, 10) \n",
    "kmeans = [KMeans(n_clusters=i) for i in clust]\n",
    "\n",
    "score = [kmeans[i].fit(X_scaled).score(X_scaled) for i in range(len(kmeans))]\n",
    "\n",
    "plt.plot(clust,score)\n",
    "plt.xlabel('Number of Clusters')\n",
    "plt.ylabel('Score')\n",
    "plt.title('Elbow Curve')\n",
    "plt.show()\n",
    "```\n",
    "\n",
    "![elbow curve](https://raw.githubusercontent.com/trenton3983/DataCamp/master/Images/fraud_detection/elbow.JPG)\n",
    "\n",
    "* The slight elbow at 3 means that 3 clusters could be optimal, but it's not very pronounced"
   ]
  },
  {
   "cell_type": "markdown",
   "metadata": {},
   "source": [
    "### Scaling the data\n",
    "\n",
    "For ML algorithms using distance based metrics, it is **crucial to always scale your data**, as features using different scales will distort your results. K-means uses the Euclidean distance to assess distance to cluster centroids, therefore you first need to scale your data before continuing to implement the algorithm. Let's do that first.\n",
    "\n",
    "Available is the dataframe `df` from the previous section, with some minor data preparation done so it is ready for you to use with `sklearn`. The fraud labels are separately stored under labels, you can use those to check the results later.\n",
    "\n",
    "**Instructions**\n",
    "\n",
    "* Import the ``MinMaxScaler``.\n",
    "* Transform your dataframe `df` into a numpy array `X` by taking only the values of `df` and make sure you have all `float` values.\n",
    "* Apply the defined scaler onto `X` to obtain scaled values of `X_scaled` to force all your features to a 0-1 scale."
   ]
  },
  {
   "cell_type": "code",
   "execution_count": 20,
   "metadata": {},
   "outputs": [],
   "source": [
    "labels = banksim_adj_df.fraud"
   ]
  },
  {
   "cell_type": "code",
   "execution_count": 21,
   "metadata": {},
   "outputs": [],
   "source": [
    "cols = [\n",
    "    \"age\",\n",
    "    \"amount\",\n",
    "    \"M\",\n",
    "    \"es_barsandrestaurants\",\n",
    "    \"es_contents\",\n",
    "    \"es_fashion\",\n",
    "    \"es_food\",\n",
    "    \"es_health\",\n",
    "    \"es_home\",\n",
    "    \"es_hotelservices\",\n",
    "    \"es_hyper\",\n",
    "    \"es_leisure\",\n",
    "    \"es_otherservices\",\n",
    "    \"es_sportsandtoys\",\n",
    "    \"es_tech\",\n",
    "    \"es_transportation\",\n",
    "    \"es_travel\",\n",
    "]"
   ]
  },
  {
   "cell_type": "code",
   "execution_count": 22,
   "metadata": {},
   "outputs": [],
   "source": [
    "# Take the float values of df for X\n",
    "X = banksim_adj_df[cols].values.astype(np.float)"
   ]
  },
  {
   "cell_type": "code",
   "execution_count": 23,
   "metadata": {},
   "outputs": [
    {
     "data": {
      "text/plain": [
       "(7189, 17)"
      ]
     },
     "execution_count": 23,
     "metadata": {},
     "output_type": "execute_result"
    }
   ],
   "source": [
    "X.shape"
   ]
  },
  {
   "cell_type": "code",
   "execution_count": 24,
   "metadata": {},
   "outputs": [],
   "source": [
    "# Define the scaler and apply to the data\n",
    "scaler = MinMaxScaler()\n",
    "X_scaled = scaler.fit_transform(X)"
   ]
  },
  {
   "cell_type": "markdown",
   "metadata": {},
   "source": [
    "### K-mean clustering\n",
    "\n",
    "A very commonly used clustering algorithm is **K-means clustering**. For fraud detection, K-means clustering is straightforward to implement and relatively powerful in predicting suspicious cases. It is a good algorithm to start with when working on fraud detection problems. However, fraud data is oftentimes very large, especially when you are working with transaction data. **MiniBatch K-means** is an **efficient way** to implement K-means on a large dataset, which you will use in this section.\n",
    "\n",
    "The scaled data from the previous section, `X_scaled` is available. Let's give it a try.\n",
    "\n",
    "**Instructions**\n",
    "\n",
    "* Import `MiniBatchKMeans` from `sklearn`.\n",
    "* Initialize the minibatch kmeans model with 8 clusters.\n",
    "* Fit the model to your scaled data."
   ]
  },
  {
   "cell_type": "code",
   "execution_count": 25,
   "metadata": {},
   "outputs": [
    {
     "data": {
      "text/plain": [
       "MiniBatchKMeans(random_state=0)"
      ]
     },
     "execution_count": 25,
     "metadata": {},
     "output_type": "execute_result"
    }
   ],
   "source": [
    "# Define the model\n",
    "kmeans = MiniBatchKMeans(n_clusters=8, random_state=0)\n",
    "\n",
    "# Fit the model to the scaled data\n",
    "kmeans.fit(X_scaled)"
   ]
  },
  {
   "cell_type": "markdown",
   "metadata": {},
   "source": [
    "**You have now fitted your MiniBatch K-means model to the data. In the upcoming sections you're going to explore whether this model is any good at flagging fraud. But before doing that, you still need to figure our what the right number of clusters to use is. Let's do that in the next section.**"
   ]
  },
  {
   "cell_type": "markdown",
   "metadata": {},
   "source": [
    "### Elbow method\n",
    "\n",
    "In the previous section, you've implemented MiniBatch K-means with 8 clusters, without actually checking what the right amount of clusters should be. For our first fraud detection approach, it is important to **get the number of clusters right**, especially when you want to use the outliers of those clusters as fraud predictions. To decide which amount of clusters you're going to use, let's apply the **Elbow method** and see what the optimal number of clusters should be based on this method.\n",
    "\n",
    "`X_scaled` is again available for you to use and `MiniBatchKMeans` has been imported from `sklearn`.\n",
    "\n",
    "**Instructions**\n",
    "\n",
    "* Define the range to be between 1 and 10 clusters.\n",
    "* Run MiniBatch K-means on all the clusters in the range using list comprehension.\n",
    "* Fit each model on the scaled data and obtain the scores from the scaled data.\n",
    "* Plot the cluster numbers and their respective scores."
   ]
  },
  {
   "cell_type": "code",
   "execution_count": 26,
   "metadata": {},
   "outputs": [],
   "source": [
    "# Define the range of clusters to try\n",
    "clustno = range(1, 10)\n",
    "\n",
    "# Run MiniBatch Kmeans over the number of clusters\n",
    "kmeans = [MiniBatchKMeans(n_clusters=i) for i in clustno]\n",
    "\n",
    "# Obtain the score for each model\n",
    "score = [kmeans[i].fit(X_scaled).score(X_scaled) for i in range(len(kmeans))]"
   ]
  },
  {
   "cell_type": "code",
   "execution_count": 27,
   "metadata": {},
   "outputs": [
    {
     "data": {
      "image/png": "[encoded data removed]",
      "text/plain": [
       "<Figure size 432x288 with 1 Axes>"
      ]
     },
     "metadata": {
      "needs_background": "light"
     },
     "output_type": "display_data"
    }
   ],
   "source": [
    "# Plot the models and their respective score\n",
    "plt.plot(clustno, score)\n",
    "plt.xlabel(\"Number of Clusters\")\n",
    "plt.ylabel(\"Score\")\n",
    "plt.title(\"Elbow Curve\")\n",
    "plt.show()"
   ]
  },
  {
   "cell_type": "markdown",
   "metadata": {},
   "source": [
    "**Now you can see that the optimal number of clusters should probably be at around 3 clusters, as that is where the elbow is in the curve. We'll use this in the next section as our baseline model, and see how well this does in detecting fraud**"
   ]
  },
  {
   "cell_type": "markdown",
   "metadata": {},
   "source": [
    "## Assigning fraud vs. non-fraud\n",
    "\n",
    "* ![clusters](https://raw.githubusercontent.com/trenton3983/DataCamp/master/Images/fraud_detection/clusters_1.JPG)\n",
    "* Take the outliers of each cluster, and flag those as fraud.\n",
    "* ![clusters](https://raw.githubusercontent.com/trenton3983/DataCamp/master/Images/fraud_detection/clusters_2.JPG)\n",
    "1. Collect and store the cluster centroids in memory\n",
    "    * Starting point to decide what's normal and not\n",
    "1. Calculate the distance of each point in the dataset, to their own cluster centroid\n",
    "* ![clusters](https://raw.githubusercontent.com/trenton3983/DataCamp/master/Images/fraud_detection/clusters_3.JPG)\n",
    "    * Euclidean distance is depicted by the circles in this case\n",
    "    * Define a cut-off point for the distances to define what's an outlier\n",
    "        * Done based on the distributions of the distances collected\n",
    "        * i.e. everything with a distance larger than the top 95th percentile, should be considered an outlier\n",
    "        * the tail of the distribution of distances\n",
    "        * anything outside the yellow circles is an outlier\n",
    "        * ![clusters](https://raw.githubusercontent.com/trenton3983/DataCamp/master/Images/fraud_detection/clusters_4.JPG)\n",
    "        * these are definitely outliers and can be described as abnormal or suspicious\n",
    "            * doesn't necessarily mean they are fraudulent"
   ]
  },
  {
   "cell_type": "markdown",
   "metadata": {},
   "source": [
    "#### Flagging Fraud Based on Distance to Centroid\n",
    "\n",
    "```python\n",
    "# Run the kmeans model on scaled data\n",
    "kmeans = KMeans(n_clusters=6, random_state=42,n_jobs=-1).fit(X_scaled)\n",
    "\n",
    "# Get the cluster number for each datapoint\n",
    "X_clusters = kmeans.predict(X_scaled)\n",
    "\n",
    "# Save the cluster centroids\n",
    "X_clusters_centers = kmeans.cluster_centers_\n",
    "\n",
    "# Calculate the distance to the cluster centroid for each point\n",
    "dist = [np.linalg.norm(x-y) for x,y in zip(X_scaled, X_clusters_centers[X_clusters])]\n",
    "\n",
    "# Create predictions based on distance\n",
    "km_y_pred = np.array(dist)\n",
    "km_y_pred[dist>=np.percentile(dist, 93)] = 1\n",
    "km_y_pred[dist<np.percentile(dist, 93)] = 0\n",
    "```\n",
    "\n",
    "* `np.linalg.norm`: returns the vector norm, the vector of distance for each datapoint to their assigned cluster\n",
    "* use the percentiles of the distances to determine which samples are outliers"
   ]
  },
  {
   "cell_type": "markdown",
   "metadata": {},
   "source": [
    "#### Validating the Model Results\n",
    "\n",
    "* without fraud labels, the usual performance metrics can't be run\n",
    "    * check with the fraud analyst\n",
    "    * investigate and describe cases that are flagged in more detail\n",
    "        * is it fraudulent or just a rare case of legit data\n",
    "        * avoid rare, legit cases by deleting certain features or removing the cases from the data\n",
    "    * if there are past cases of fraud, see if the model can predict them using historic data"
   ]
  },
  {
   "cell_type": "markdown",
   "metadata": {},
   "source": [
    "### Detecting outliers\n",
    "\n",
    "In the next sections, you're going to use the K-means algorithm to predict fraud, and compare those predictions to the actual labels that are saved, to sense check our results.\n",
    "\n",
    "The fraudulent transactions are **typically flagged as the observations that are furthest aways from the cluster centroid**. You'll learn how to do this and how to determine the cut-off in this section. In the next one, you'll check the results.\n",
    "\n",
    "Available are the scaled observations `X_scaled`, as well as the labels stored under the variable `y`.\n",
    "\n",
    "**Instructions**\n",
    "\n",
    "* Split the scaled data and labels y into a train and test set.\n",
    "* Define the MiniBatch K-means model with 3 clusters, and fit to the training data.\n",
    "* Get the cluster predictions from your test data and obtain the cluster centroids.\n",
    "* Define the boundary between fraud and non fraud to be at 95% of distance distribution and higher."
   ]
  },
  {
   "cell_type": "code",
   "execution_count": 28,
   "metadata": {},
   "outputs": [],
   "source": [
    "# Split the data into training and test set\n",
    "X_train, X_test, y_train, y_test = train_test_split(\n",
    "    X_scaled, labels, test_size=0.3, random_state=0\n",
    ")\n",
    "\n",
    "# Define K-means model\n",
    "kmeans = MiniBatchKMeans(n_clusters=3, random_state=42).fit(X_train)\n",
    "\n",
    "# Obtain predictions and calculate distance from cluster centroid\n",
    "X_test_clusters = kmeans.predict(X_test)\n",
    "X_test_clusters_centers = kmeans.cluster_centers_\n",
    "dist = [\n",
    "    np.linalg.norm(x - y)\n",
    "    for x, y in zip(X_test, X_test_clusters_centers[X_test_clusters])\n",
    "]\n",
    "\n",
    "# Create fraud predictions based on outliers on clusters\n",
    "km_y_pred = np.array(dist)\n",
    "km_y_pred[dist >= np.percentile(dist, 95)] = 1\n",
    "km_y_pred[dist < np.percentile(dist, 95)] = 0"
   ]
  },
  {
   "cell_type": "markdown",
   "metadata": {},
   "source": [
    "### Checking model results\n",
    "\n",
    "In the previous section, you've flagged all observations to be fraud, if they are in the top 5th percentile in distance from the cluster centroid. I.e. these are the very outliers of the three clusters. For this section you have the scaled data and labels already split into training and test set, so `y_test` is available. The predictions from the previous section, `km_y_pred`, are also available. Let's create some performance metrics and see how well you did.\n",
    "\n",
    "**Instructions 1/3**\n",
    "\n",
    "* Obtain the area under the ROC curve from your test labels and predicted labels."
   ]
  },
  {
   "cell_type": "code",
   "execution_count": 29,
   "metadata": {},
   "outputs": [],
   "source": [
    "def plot_confusion_matrix(\n",
    "    cm,\n",
    "    classes=[\"Not Fraud\", \"Fraud\"],\n",
    "    normalize=False,\n",
    "    title=\"Fraud Confusion matrix\",\n",
    "    cmap=plt.cm.Blues,\n",
    "):\n",
    "    \"\"\"\n",
    "    This function prints and plots the confusion matrix.\n",
    "    Normalization can be applied by setting `normalize=True`.\n",
    "    From:\n",
    "        http://scikit-learn.org/stable/auto_examples/model_selection/plot_confusion_matrix.html#sphx-glr-auto-\n",
    "        examples-model-selection-plot-confusion-matrix-py\n",
    "    \"\"\"\n",
    "    if normalize:\n",
    "        cm = cm.astype(\"float\") / cm.sum(axis=1)[:, np.newaxis]\n",
    "        print(\"Normalized confusion matrix\")\n",
    "    else:\n",
    "        print(\"Confusion matrix, without normalization\")\n",
    "\n",
    "    # print(cm)\n",
    "\n",
    "    plt.imshow(cm, interpolation=\"nearest\", cmap=cmap)\n",
    "    plt.title(title)\n",
    "    plt.colorbar()\n",
    "    tick_marks = np.arange(len(classes))\n",
    "    plt.xticks(tick_marks, classes, rotation=45)\n",
    "    plt.yticks(tick_marks, classes)\n",
    "\n",
    "    fmt = \".2f\" if normalize else \"d\"\n",
    "    thresh = cm.max() / 2.0\n",
    "    for i, j in product(range(cm.shape[0]), range(cm.shape[1])):\n",
    "        plt.text(\n",
    "            j,\n",
    "            i,\n",
    "            format(cm[i, j], fmt),\n",
    "            horizontalalignment=\"center\",\n",
    "            color=\"white\" if cm[i, j] > thresh else \"black\",\n",
    "        )\n",
    "\n",
    "    plt.tight_layout()\n",
    "    plt.ylabel(\"True label\")\n",
    "    plt.xlabel(\"Predicted label\")\n",
    "    plt.show()"
   ]
  },
  {
   "cell_type": "code",
   "execution_count": 30,
   "metadata": {},
   "outputs": [
    {
     "data": {
      "text/plain": [
       "0.8197704982668266"
      ]
     },
     "execution_count": 30,
     "metadata": {},
     "output_type": "execute_result"
    }
   ],
   "source": [
    "# Obtain the ROC score\n",
    "roc_auc_score(y_test, km_y_pred)"
   ]
  },
  {
   "cell_type": "markdown",
   "metadata": {},
   "source": [
    "**Instructions 2/3**\n",
    "\n",
    "* Obtain the confusion matrix from the test labels and predicted labels and plot the results."
   ]
  },
  {
   "cell_type": "code",
   "execution_count": 31,
   "metadata": {},
   "outputs": [
    {
     "name": "stdout",
     "output_type": "stream",
     "text": [
      "Confusion matrix, without normalization\n"
     ]
    },
    {
     "data": {
      "image/png": "[encoded data removed]",
      "text/plain": [
       "<Figure size 432x288 with 2 Axes>"
      ]
     },
     "metadata": {
      "needs_background": "light"
     },
     "output_type": "display_data"
    }
   ],
   "source": [
    "# Create a confusion matrix\n",
    "km_cm = confusion_matrix(y_test, km_y_pred)\n",
    "\n",
    "# Plot the confusion matrix in a figure to visualize results\n",
    "plot_confusion_matrix(km_cm)"
   ]
  },
  {
   "cell_type": "markdown",
   "metadata": {},
   "source": [
    "**Instructions 3/3**\n",
    "\n",
    "If you were to decrease the percentile used as a cutoff point in the previous section to 93% instead of 95%, what would that do to your prediction results?\n",
    "\n",
    "**Possible Answers**\n",
    "\n",
    "* **The number of fraud cases caught increases, but false positives also increase.**\n",
    "* ~~The number of fraud cases caught decreases, and false positives decrease.~~\n",
    "* ~~The number of fraud cases caught increases, but false positives would decrease.~~\n",
    "* ~~Nothing would happen to the amount of fraud cases caught.~~"
   ]
  },
  {
   "cell_type": "markdown",
   "metadata": {},
   "source": [
    "## Alternate clustering methods for fraud detection\n",
    "\n",
    "* In addition to K-means, there are many different clustering methods, which can be used for fraud detection\n",
    "* ![clustering methods](https://raw.githubusercontent.com/trenton3983/DataCamp/master/Images/fraud_detection/clustering_methods.JPG)\n",
    "* K-means works well when the data is clustered in normal, round shapes\n",
    "* There are methods to flag fraud other the cluster outliers\n",
    "* ![clustering outlier](https://raw.githubusercontent.com/trenton3983/DataCamp/master/Images/fraud_detection/cluster_outlier.JPG)\n",
    "    * Small clusters can be an indication of fraud\n",
    "    * This approach can be used when fraudulent behavior has commonalities, which cause clustering\n",
    "    * The fraudulent data would cluster in tiny groups, rather than be the outliers of larger clusters\n",
    "* ![typical data](https://raw.githubusercontent.com/trenton3983/DataCamp/master/Images/fraud_detection/typical_data.JPG)\n",
    "    * In this case there are 3 obvious clusters\n",
    "    * The smallest dots are outliers and outside of what can be described as normal behavior\n",
    "    * There are also small to medium clusters closely connected to the red cluster\n",
    "    * Visualizing the data with something like [PCA](https://en.wikipedia.org/wiki/Principal_component_analysis) can be quite helpful"
   ]
  },
  {
   "cell_type": "markdown",
   "metadata": {},
   "source": [
    "#### DBSCAN: Density-Based Spatial Clustering of Applications with Noise\n",
    "\n",
    "* [DBscan](https://en.wikipedia.org/wiki/DBSCAN)\n",
    "* DBSCAN vs. K-means\n",
    "    * The number of clusters does not need to be predefined\n",
    "        * The algorithm finds core samples of high density and expands clusters from them\n",
    "        * Works well on data containing clusters of similar density\n",
    "    * This type of algorithm can be used to identify fraud as very small clusters\n",
    "    * Maximum allowed distance between points in a cluster must be assigned\n",
    "    * Minimal number of data points in clusters must be assigned\n",
    "    * Better performance on weirdly shaped data\n",
    "    * Computationally heavier then MiniBatch K-means"
   ]
  },
  {
   "cell_type": "markdown",
   "metadata": {},
   "source": [
    "#### Implementation of DBSCAN\n",
    "\n",
    "```python\n",
    "from sklearn.cluster import DBSCAN\n",
    "db = DBSCAN(eps=0.5, min_samples=10, n_jobs=-1).fit(X_scaled)\n",
    "\n",
    "# Get the cluster labels (aka numbers)\n",
    "pred_labels = db.labels_\n",
    "\n",
    "# Count the total number of clusters\n",
    "n_clusters_ = len(set(pred_labels)) - (1 if -1 in pred_labels else 0)\n",
    "\n",
    "# Print model results\n",
    "print(f'Estimated number of clusters: {n_clusters_}')\n",
    ">>> Estimated number of clusters: 31\n",
    "    \n",
    "# Print model results\n",
    "print(f'Silhouette Coefficient: {metrics.silhouette_score(X_scaled, pred_labels):0.3f}')\n",
    ">>> Silhouette Coefficient: 0.359\n",
    "    \n",
    "# Get sample counts in each cluster \n",
    "counts = np.bincount(pred_labels[pred_labels>=0])\n",
    "print(counts)\n",
    ">>> [ 763, 496, 840, 355 1086, 676, 63, 306, 560, 134, 28, 18, 262, 128,\n",
    "     332, 22, 22, 13, 31, 38, 36, 28, 14, 12, 30, 10, 11, 10, 21, 10, 5]\n",
    "```\n",
    "\n",
    "* start by defining the epsilon `eps`\n",
    "    * Distance between data points allowed from which the cluster expands\n",
    "* define minimum samples in the clusters\n",
    "* conventional DBSCAN can't produce the optimal value of epsilon, so it requires sophisticated DBSCAN modifications to automatically determine the optimal epsilon value\n",
    "* Fit DBSCAN to **scaled data**\n",
    "* Use `labels_` method to get the assigned cluster label for each data point\n",
    "* The cluster count can also be determine by counting the unique cluster labels from the cluster `label_` predictions\n",
    "* Can have performance metrics such as **average silhouette score**\n",
    "* The size of each cluster can be calculated with `np.bincount`\n",
    "    * counts the number of occurrences of non-negative values in a `numpy` array\n",
    "* sort `counts` and decide how many of the smaller clusters to flag as fraud\n",
    "    * selecting the clusters to flag, is a trial-and-error step and depends on the number of cases the fraud team can manage"
   ]
  },
  {
   "cell_type": "markdown",
   "metadata": {},
   "source": [
    "### DB scan\n",
    "\n",
    "In this section, you're going to explore using a **density based clustering** method (DBSCAN) to detect fraud. The advantage of DBSCAN is that you **do not need to define the number of clusters** beforehand. Also, DBSCAN can handle weirdly shaped data (i.e. non-convex) much better than K-means can. This time, you are not going to take the outliers of the clusters and use that for fraud, but take the **smallest clusters** in the data and label those as fraud. You again have the scaled dataset, i.e. X_scaled available. Let's give it a try!\n",
    "\n",
    "**Instructions**\n",
    "\n",
    "* Import `DBSCAN`.\n",
    "* Initialize a DBSCAN model setting the maximum distance between two samples to 0.9 and the minimum observations in the clusters to 10, and fit the model to the scaled data.\n",
    "* Obtain the predicted labels, these are the cluster numbers assigned to an observation.\n",
    "* Print the number of clusters and the rest of the performance metrics."
   ]
  },
  {
   "cell_type": "code",
   "execution_count": 32,
   "metadata": {},
   "outputs": [],
   "source": [
    "# Initialize and fit the DBscan model\n",
    "db = DBSCAN(eps=0.9, min_samples=10, n_jobs=-1).fit(X_scaled)\n",
    "\n",
    "# Obtain the predicted labels and calculate number of clusters\n",
    "pred_labels = db.labels_\n",
    "n_clusters = len(set(pred_labels)) - (1 if -1 in labels else 0)"
   ]
  },
  {
   "cell_type": "code",
   "execution_count": 33,
   "metadata": {},
   "outputs": [
    {
     "name": "stdout",
     "output_type": "stream",
     "text": [
      "Estimated number of clusters: 23\n",
      "Homogeneity: 0.612\n",
      "Silhouette Coefficient: 0.713\n"
     ]
    }
   ],
   "source": [
    "# Print performance metrics for DBscan\n",
    "print(f\"Estimated number of clusters: {n_clusters}\")\n",
    "print(f\"Homogeneity: {homogeneity_score(labels, pred_labels):0.3f}\")\n",
    "print(f\"Silhouette Coefficient: {silhouette_score(X_scaled, pred_labels):0.3f}\")"
   ]
  },
  {
   "cell_type": "markdown",
   "metadata": {},
   "source": [
    "**The number of clusters is much higher than with K-means. For fraud detection this is for now OK, as we are only interested in the smallest clusters, since those are considered as abnormal. Now have a look at those clusters and decide which one to flag as fraud.**"
   ]
  },
  {
   "cell_type": "markdown",
   "metadata": {},
   "source": [
    "### Assessing smallest clusters\n",
    "\n",
    "In this section you're going to have a look at the clusters that came out of DBscan, and flag certain clusters as fraud:\n",
    "\n",
    "* you first need to figure out how big the clusters are, and **filter out the smallest**\n",
    "* then, you're going to take the smallest ones and **flag those as fraud**\n",
    "* last, you'll **check with the original labels** whether this does actually do a good job in detecting fraud.\n",
    "\n",
    "Available are the DBscan model predictions, so `n_clusters` is available as well as the cluster labels, which are saved under `pred_labels`. Let's give it a try!\n",
    "\n",
    "**Instructions 1/3**\n",
    "\n",
    "* Count the samples within each cluster by running a bincount on the predicted cluster numbers under `pred_labels` and print the results."
   ]
  },
  {
   "cell_type": "code",
   "execution_count": 34,
   "metadata": {},
   "outputs": [
    {
     "name": "stdout",
     "output_type": "stream",
     "text": [
      "[3252  145 2714   55  174  119  122   98   54   15   76   15   43   25\n",
      "   51   47   42   15   25   20   19   10]\n"
     ]
    }
   ],
   "source": [
    "# Count observations in each cluster number\n",
    "counts = np.bincount(pred_labels[pred_labels >= 0])\n",
    "\n",
    "# Print the result\n",
    "print(counts)"
   ]
  },
  {
   "cell_type": "markdown",
   "metadata": {},
   "source": [
    "**Instructions 2/3**\n",
    "\n",
    "* Sort the sample `counts` and take the top 3 smallest clusters, and print the results."
   ]
  },
  {
   "cell_type": "code",
   "execution_count": 35,
   "metadata": {},
   "outputs": [],
   "source": [
    "# Sort the sample counts of the clusters and take the top 3 smallest clusters\n",
    "smallest_clusters = np.argsort(counts)[:3]"
   ]
  },
  {
   "cell_type": "code",
   "execution_count": 36,
   "metadata": {},
   "outputs": [
    {
     "name": "stdout",
     "output_type": "stream",
     "text": [
      "The smallest clusters are clusters: [21 17  9]\n"
     ]
    }
   ],
   "source": [
    "# Print the results\n",
    "print(f\"The smallest clusters are clusters: {smallest_clusters}\")"
   ]
  },
  {
   "cell_type": "markdown",
   "metadata": {},
   "source": [
    "**Instructions 3/3**\n",
    "\n",
    "* Within `counts`, select the smallest clusters only, to print the number of samples in the three smallest clusters."
   ]
  },
  {
   "cell_type": "code",
   "execution_count": 37,
   "metadata": {},
   "outputs": [
    {
     "name": "stdout",
     "output_type": "stream",
     "text": [
      "Their counts are: [10 15 15]\n"
     ]
    }
   ],
   "source": [
    "# Print the counts of the smallest clusters only\n",
    "print(f\"Their counts are: {counts[smallest_clusters]}\")"
   ]
  },
  {
   "cell_type": "markdown",
   "metadata": {},
   "source": [
    "**So now we know which smallest clusters you could flag as fraud. If you were to take more of the smallest clusters, you cast your net wider and catch more fraud, but most likely also more false positives. It is up to the fraud analyst to find the right amount of cases to flag and to investigate. In the next section you'll check the results with the actual labels.**"
   ]
  },
  {
   "cell_type": "markdown",
   "metadata": {},
   "source": [
    "### Results verification\n",
    "\n",
    "In this section, you're going to **check the results** of your DBscan fraud detection model. In reality, you often don't have reliable labels and this where a fraud analyst can help you validate the results. One can check your results and see whether the cases you flagged are indeed suspicious. You can also **check historically known cases** of fraud and see whether your model flags them.\n",
    "\n",
    "In this case, you'll **use the fraud labels** to check your model results. The predicted cluster numbers are available under `pred_labels` as well as the original fraud `labels`.\n",
    "\n",
    "**Instructions**\n",
    "\n",
    "* Create a dataframe combining the cluster numbers with the actual labels.\n",
    "* Create a condition that flags fraud for the three smallest clusters: clusters 21, 17 and 9.\n",
    "* Create a crosstab from the actual fraud labels with the newly created predicted fraud labels."
   ]
  },
  {
   "cell_type": "code",
   "execution_count": 38,
   "metadata": {},
   "outputs": [],
   "source": [
    "# Create a dataframe of the predicted cluster numbers and fraud labels\n",
    "df = pd.DataFrame({\"clusternr\": pred_labels, \"fraud\": labels})\n",
    "\n",
    "# Create a condition flagging fraud for the smallest clusters\n",
    "df[\"predicted_fraud\"] = np.where((df[\"clusternr\"].isin([21, 17, 9])), 1, 0)"
   ]
  },
  {
   "cell_type": "code",
   "execution_count": 39,
   "metadata": {},
   "outputs": [
    {
     "name": "stdout",
     "output_type": "stream",
     "text": [
      "Flagged Fraud     0   1\n",
      "Actual Fraud           \n",
      "0              6973  16\n",
      "1               176  24\n"
     ]
    }
   ],
   "source": [
    "# Run a crosstab on the results\n",
    "print(\n",
    "    pd.crosstab(\n",
    "        df[\"fraud\"],\n",
    "        df[\"predicted_fraud\"],\n",
    "        rownames=[\"Actual Fraud\"],\n",
    "        colnames=[\"Flagged Fraud\"],\n",
    "    )\n",
    ")"
   ]
  },
  {
   "cell_type": "markdown",
   "metadata": {},
   "source": [
    "**How does this compare to the K-means model? The good thing is: our of all flagged cases, roughly 2/3 are actually fraud! Since you only take the three smallest clusters, by definition you flag less cases of fraud, so you catch less but also have less false positives. However, you are missing quite a lot of fraud cases. Increasing the amount of smallest clusters you flag could improve that, at the cost of more false positives of course. In the next section, you'll learn how to further improve fraud detection models by including text analysis.**"
   ]
  },
  {
   "cell_type": "markdown",
   "metadata": {},
   "source": [
    "### Fraud detection without labels\n",
    "\n",
    "* Learned about the importance of segmentation\n",
    "* Refreshed your knowledge on clustering methods\n",
    "* Learned how to detect fraud using outliers and small clusters with K-means clustering\n",
    "* Applied a DBSCAN clustering model for fraud detection"
   ]
  }
 ],
 "metadata": {
  "kernelspec": {
   "display_name": "Python 3 (ipykernel)",
   "language": "python",
   "name": "python3"
  },
  "language_info": {
   "codemirror_mode": {
    "name": "ipython",
    "version": 3
   },
   "file_extension": ".py",
   "mimetype": "text/x-python",
   "name": "python",
   "nbconvert_exporter": "python",
   "pygments_lexer": "ipython3",
   "version": "3.7.10"
  },
  "toc-autonumbering": true
 },
 "nbformat": 4,
 "nbformat_minor": 4
}
